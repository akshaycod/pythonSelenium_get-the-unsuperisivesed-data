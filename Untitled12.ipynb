{
  "nbformat": 4,
  "nbformat_minor": 0,
  "metadata": {
    "colab": {
      "name": "Untitled12.ipynb",
      "provenance": [],
      "authorship_tag": "ABX9TyPUG0InIMVe5wTpiBE4b+c8",
      "include_colab_link": true
    },
    "kernelspec": {
      "name": "python3",
      "display_name": "Python 3"
    },
    "language_info": {
      "name": "python"
    }
  },
  "cells": [
    {
      "cell_type": "markdown",
      "metadata": {
        "id": "view-in-github",
        "colab_type": "text"
      },
      "source": [
        "<a href=\"https://colab.research.google.com/github/akshaycod/pythonSelenium_get-the-unsuperisivesed-data/blob/main/Untitled12.ipynb\" target=\"_parent\"><img src=\"https://colab.research.google.com/assets/colab-badge.svg\" alt=\"Open In Colab\"/></a>"
      ]
    },
    {
      "cell_type": "code",
      "execution_count": 1,
      "metadata": {
        "colab": {
          "base_uri": "https://localhost:8080/"
        },
        "id": "YmZZY3JkGoKP",
        "outputId": "07df1122-ae0d-43d1-b185-ca2a1b1f659b"
      },
      "outputs": [
        {
          "output_type": "stream",
          "name": "stdout",
          "text": [
            "\u001b[?25l\r\u001b[K     |█████▊                          | 10 kB 20.5 MB/s eta 0:00:01\r\u001b[K     |███████████▍                    | 20 kB 10.5 MB/s eta 0:00:01\r\u001b[K     |█████████████████               | 30 kB 8.6 MB/s eta 0:00:01\r\u001b[K     |██████████████████████▊         | 40 kB 3.7 MB/s eta 0:00:01\r\u001b[K     |████████████████████████████▍   | 51 kB 4.2 MB/s eta 0:00:01\r\u001b[K     |████████████████████████████████| 57 kB 2.4 MB/s \n",
            "\u001b[?25h"
          ]
        }
      ],
      "source": [
        "!pip install kora -q"
      ]
    },
    {
      "cell_type": "code",
      "source": [
        "from kora.selenium import wd\n",
        "wd.get(\"http://codewithharry.com\")"
      ],
      "metadata": {
        "id": "XFlwcFRBGrcR"
      },
      "execution_count": 7,
      "outputs": []
    },
    {
      "cell_type": "code",
      "source": [
        "wd.page_source"
      ],
      "metadata": {
        "colab": {
          "base_uri": "https://localhost:8080/"
        },
        "id": "vgNKK--CG2h3",
        "outputId": "c3e34a32-0495-4528-a312-bbf0d3c33cb8"
      },
      "execution_count": 9,
      "outputs": [
        {
          "output_type": "execute_result",
          "data": {
            "text/plain": [
              "<function str.title>"
            ]
          },
          "metadata": {},
          "execution_count": 9
        }
      ]
    },
    {
      "cell_type": "code",
      "source": [
        "from selenium import webdriver\n",
        "options = webdriver.ChromeOptions()\n",
        "options.add_argument('--headless')\n",
        "options.add_argument('--no-sandbox')\n",
        "options.add_argument('--disable-dev-shm-usage')\n",
        "# open it, go to a website, and get results\n",
        "wd = webdriver.Chrome(options=options)\n",
        "wd.get(\"https://www.youtube.com\")\n",
        "print(wd.title) "
      ],
      "metadata": {
        "colab": {
          "base_uri": "https://localhost:8080/"
        },
        "id": "b5p5KeMuMZdW",
        "outputId": "b78510dc-0f61-4c0a-ae61-a13189dd9a0c"
      },
      "execution_count": 15,
      "outputs": [
        {
          "output_type": "stream",
          "name": "stdout",
          "text": [
            "YouTube\n"
          ]
        }
      ]
    },
    {
      "cell_type": "code",
      "source": [
        ""
      ],
      "metadata": {
        "id": "d83P4GqVMiwT"
      },
      "execution_count": null,
      "outputs": []
    }
  ]
}