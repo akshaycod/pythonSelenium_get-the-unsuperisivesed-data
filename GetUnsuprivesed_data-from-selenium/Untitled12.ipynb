{
  "nbformat": 4,
  "nbformat_minor": 0,
  "metadata": {
    "colab": {
      "name": "Untitled12.ipynb",
      "provenance": []
    },
    "kernelspec": {
      "name": "python3",
      "display_name": "Python 3"
    },
    "language_info": {
      "name": "python"
    }
  },
  "cells": [
    {
      "cell_type": "code",
      "execution_count": null,
      "metadata": {
        "colab": {
          "base_uri": "https://localhost:8080/"
        },
        "id": "YmZZY3JkGoKP",
        "outputId": "07df1122-ae0d-43d1-b185-ca2a1b1f659b"
      },
      "outputs": [
        {
          "output_type": "stream",
          "name": "stdout",
          "text": [
            "\u001b[?25l\r\u001b[K     |█████▊                          | 10 kB 20.5 MB/s eta 0:00:01\r\u001b[K     |███████████▍                    | 20 kB 10.5 MB/s eta 0:00:01\r\u001b[K     |█████████████████               | 30 kB 8.6 MB/s eta 0:00:01\r\u001b[K     |██████████████████████▊         | 40 kB 3.7 MB/s eta 0:00:01\r\u001b[K     |████████████████████████████▍   | 51 kB 4.2 MB/s eta 0:00:01\r\u001b[K     |████████████████████████████████| 57 kB 2.4 MB/s \n",
            "\u001b[?25h"
          ]
        }
      ],
      "source": [
        "!pip install kora -q"
      ]
    },
    {
      "cell_type": "code",
      "source": [
        "from kora.selenium import wd\n",
        "wd.get(\"http://youtube.com\")"
      ],
      "metadata": {
        "id": "XFlwcFRBGrcR"
      },
      "execution_count": null,
      "outputs": []
    },
    {
      "cell_type": "code",
      "source": [
        "wd.page_source"
      ],
      "metadata": {
        "id": "vgNKK--CG2h3"
      },
      "execution_count": null,
      "outputs": []
    },
    {
      "cell_type": "code",
      "source": [
        ""
      ],
      "metadata": {
        "id": "aEfnZJ2LHZ77"
      },
      "execution_count": null,
      "outputs": []
    }
  ]
}